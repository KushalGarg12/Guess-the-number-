{
 "cells": [
  {
   "cell_type": "code",
   "execution_count": 1,
   "metadata": {},
   "outputs": [
    {
     "name": "stdout",
     "output_type": "stream",
     "text": [
      "New Game\n",
      "Range is from  [0, 100]\n",
      "\n"
     ]
    },
    {
     "ename": "SystemExit",
     "evalue": "0",
     "output_type": "error",
     "traceback": [
      "An exception has occurred, use %tb to see the full traceback.\n",
      "\u001b[1;31mSystemExit\u001b[0m\u001b[1;31m:\u001b[0m 0\n"
     ]
    },
    {
     "name": "stderr",
     "output_type": "stream",
     "text": [
      "D:\\conda\\lib\\site-packages\\IPython\\core\\interactiveshell.py:3339: UserWarning: To exit: use 'exit', 'quit', or Ctrl-D.\n",
      "  warn(\"To exit: use 'exit', 'quit', or Ctrl-D.\", stacklevel=1)\n"
     ]
    }
   ],
   "source": [
    "import simpleguitk as simplegui\n",
    "import random\n",
    "size=100\n",
    "secret_number=0\n",
    "total_guesses=5\n",
    "def new_game():\n",
    "    global secret_number\n",
    "    print (\"New Game\")\n",
    "    print (\"Range is from \",[0,size])\n",
    "    \n",
    "    print (\"\")\n",
    "    secret_number=random.randrange(0,size)\n",
    "    \n",
    "new_game()\n",
    "def range_100():\n",
    "    global secret_number,size\n",
    "    size=100\n",
    "    new_game()\n",
    "def range_1000():\n",
    "    global size\n",
    "    size=1000\n",
    "    new_game()\n",
    "def input_guess(guess):\n",
    "    global total_guesses\n",
    "    guess=int(guess)\n",
    "    print (\"Guess was\",guess)\n",
    "    if guess>secret_number and total_guesses>0:\n",
    "        print (\"Lower\")\n",
    "        total_guesses=total_guesses-1\n",
    "        print (\"Number of guesses remaining\",total_guesses)\n",
    "    elif guess<secret_number and total_guesses>0:\n",
    "        print (\"Higher\")\n",
    "        total_guesses=total_guesses-1\n",
    "        print (\"Number of guesses remaining\",total_guesses)\n",
    "    elif guess==secret_number and total_guesses>0:\n",
    "        print (\"correct.you won\")\n",
    "        print (\"\")\n",
    "        new_game()\n",
    "    if total_guesses==0:\n",
    "        print (\"\")\n",
    "        print (\"you are out of guesses.\")\n",
    "        print (\"the number was\",secret_number)\n",
    "        print (\"\")\n",
    "        new_game()\n",
    "        print (\" \")\n",
    "        \n",
    "frame=simplegui.create_frame(\"Guess the number\",400,400)\n",
    "frame.add_button(\"Restart\",new_game,100)\n",
    "frame.add_button(\"Range is [0,100)\",range_100,100)\n",
    "frame.add_button(\"Range is [0,1000)\",range_1000,100)\n",
    "frame.add_input(\"Guess is \",input_guess,200)\n",
    "frame.start()\n",
    "   \n",
    " \n",
    "    "
   ]
  },
  {
   "cell_type": "code",
   "execution_count": null,
   "metadata": {},
   "outputs": [],
   "source": []
  }
 ],
 "metadata": {
  "kernelspec": {
   "display_name": "Python 3",
   "language": "python",
   "name": "python3"
  },
  "language_info": {
   "codemirror_mode": {
    "name": "ipython",
    "version": 3
   },
   "file_extension": ".py",
   "mimetype": "text/x-python",
   "name": "python",
   "nbconvert_exporter": "python",
   "pygments_lexer": "ipython3",
   "version": "3.7.6"
  }
 },
 "nbformat": 4,
 "nbformat_minor": 4
}
